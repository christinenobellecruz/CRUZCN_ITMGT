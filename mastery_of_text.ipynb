{
 "cells": [
  {
   "cell_type": "code",
   "execution_count": 11,
   "id": "74cccca2-7a4a-49e6-9397-697e46f0f63c",
   "metadata": {},
   "outputs": [
    {
     "name": "stdout",
     "output_type": "stream",
     "text": [
      "Downloaded pg10, length: 4451818\n"
     ]
    }
   ],
   "source": [
    "# Python variable pg10 (Saved text from Project Gutenberg)\n",
    "\n",
    "import urllib.request\n",
    "\n",
    "url = \"https://www.gutenberg.org/cache/epub/10/pg10.txt\"\n",
    "response = urllib.request.urlopen(url)\n",
    "pg10 = response.read().decode(\"utf-8\")\n",
    "\n",
    "print(\"Downloaded pg10, length:\", len(pg10))"
   ]
  },
  {
   "cell_type": "code",
   "execution_count": 12,
   "id": "1f6cdd76-91b5-4afe-843e-297444300397",
   "metadata": {},
   "outputs": [
    {
     "name": "stdout",
     "output_type": "stream",
     "text": [
      "Number of lines: 99968\n"
     ]
    }
   ],
   "source": [
    "# Count lines (How many lines does the string have?)\n",
    "lines = pg10.splitlines()\n",
    "print(\"Number of lines:\", len(lines))"
   ]
  },
  {
   "cell_type": "code",
   "execution_count": 13,
   "id": "27a5ddda-8a60-41e4-87af-fc69d6946d79",
   "metadata": {},
   "outputs": [
    {
     "name": "stdout",
     "output_type": "stream",
     "text": [
      "Number of words: 795227\n"
     ]
    }
   ],
   "source": [
    "# Count words (How many words does the string have? (where a word is any set of directly-adjacent alphabet characters))\n",
    "import re\n",
    "\n",
    "words = re.findall(r\"[A-Za-z]+\", pg10)\n",
    "print(\"Number of words:\", len(words))"
   ]
  },
  {
   "cell_type": "code",
   "execution_count": 14,
   "id": "af860a72-5161-4b27-b6fe-204a607a9eae",
   "metadata": {},
   "outputs": [
    {
     "name": "stdout",
     "output_type": "stream",
     "text": [
      "Occurrences of 'apostle': 47\n"
     ]
    }
   ],
   "source": [
    "# Count apostle (How many times does the word \"apostle\", ignoring capitalization, appear in the string?)\n",
    "count_apostle = sum(1 for word in words if word.lower() == \"apostle\")\n",
    "print(\"Occurrences of 'apostle':\", count_apostle)"
   ]
  },
  {
   "cell_type": "code",
   "execution_count": 15,
   "id": "d70e73f7-cecb-4d26-b4cc-edfe605d3a00",
   "metadata": {},
   "outputs": [
    {
     "name": "stdout",
     "output_type": "stream",
     "text": [
      "Most common word: the appears 64309 times\n"
     ]
    }
   ],
   "source": [
    "# Most common word (What is the most common word, ignoring capitalization, in the string? (where a word is any set of directly-adjacent alphabet characters))\n",
    "from collections import Counter\n",
    "\n",
    "word_counts = Counter(word.lower() for word in words)\n",
    "most_common_word, freq = word_counts.most_common(1)[0]\n",
    "print(\"Most common word:\", most_common_word, \"appears\", freq, \"times\")"
   ]
  }
 ],
 "metadata": {
  "kernelspec": {
   "display_name": "Python [conda env:base] *",
   "language": "python",
   "name": "conda-base-py"
  },
  "language_info": {
   "codemirror_mode": {
    "name": "ipython",
    "version": 3
   },
   "file_extension": ".py",
   "mimetype": "text/x-python",
   "name": "python",
   "nbconvert_exporter": "python",
   "pygments_lexer": "ipython3",
   "version": "3.13.5"
  }
 },
 "nbformat": 4,
 "nbformat_minor": 5
}
